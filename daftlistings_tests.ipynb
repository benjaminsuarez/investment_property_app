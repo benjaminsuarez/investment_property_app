{
 "cells": [
  {
   "cell_type": "code",
   "execution_count": 1,
   "metadata": {},
   "outputs": [
    {
     "name": "stdout",
     "output_type": "stream",
     "text": [
      "hello world\n"
     ]
    }
   ],
   "source": [
    "print(\"hello world\")"
   ]
  },
  {
   "cell_type": "code",
   "execution_count": 2,
   "metadata": {
    "scrolled": true
   },
   "outputs": [
    {
     "name": "stdout",
     "output_type": "stream",
     "text": [
      "https://github.com/AnthonyBloomer/daftlistings\n"
     ]
    }
   ],
   "source": [
    "print(\"https://github.com/AnthonyBloomer/daftlistings\") "
   ]
  },
  {
   "cell_type": "code",
   "execution_count": 6,
   "metadata": {},
   "outputs": [
    {
     "name": "stdout",
     "output_type": "stream",
     "text": [
      "http://www.daft.ie/dublin-city/property-for-sale/?offset=0\n",
      "Fetching page 1 of 171 \n",
      "Fetching page 2 of 171 \n",
      "Fetching page 3 of 171 \n",
      "Fetching page 4 of 171 \n",
      "Fetching page 5 of 171 \n",
      "Fetching page 6 of 171 \n",
      "Fetching page 7 of 171 \n",
      "Fetching page 8 of 171 \n",
      "Fetching page 9 of 171 \n",
      "Fetching page 10 of 171 \n",
      "Fetching page 11 of 171 \n",
      "Fetching page 12 of 171 \n",
      "Fetching page 13 of 171 \n",
      "Fetching page 14 of 171 \n",
      "Fetching page 15 of 171 \n",
      "Fetching page 16 of 171 \n",
      "Fetching page 17 of 171 \n",
      "Fetching page 18 of 171 \n",
      "Fetching page 19 of 171 \n",
      "Fetching page 20 of 171 \n",
      "Fetching page 21 of 171 \n",
      "Fetching page 22 of 171 \n",
      "Fetching page 23 of 171 \n",
      "Fetching page 24 of 171 \n",
      "Fetching page 25 of 171 \n",
      "Fetching page 26 of 171 \n",
      "Fetching page 27 of 171 \n",
      "Fetching page 28 of 171 \n",
      "Fetching page 29 of 171 \n",
      "Fetching page 30 of 171 \n",
      "Fetching page 31 of 171 \n",
      "Fetching page 32 of 171 \n",
      "Fetching page 33 of 171 \n",
      "Fetching page 34 of 171 \n",
      "Fetching page 35 of 171 \n",
      "Fetching page 36 of 171 \n",
      "Fetching page 37 of 171 \n",
      "Fetching page 38 of 171 \n",
      "Fetching page 39 of 171 \n",
      "Fetching page 40 of 171 \n",
      "Fetching page 41 of 171 \n",
      "Fetching page 42 of 171 \n",
      "Fetching page 43 of 171 \n",
      "Fetching page 44 of 171 \n",
      "Fetching page 45 of 171 \n",
      "Fetching page 46 of 171 \n",
      "Fetching page 47 of 171 \n",
      "Fetching page 48 of 171 \n",
      "Fetching page 49 of 171 \n",
      "Fetching page 50 of 171 \n",
      "Fetching page 51 of 171 \n",
      "Fetching page 52 of 171 \n",
      "Fetching page 53 of 171 \n",
      "Fetching page 54 of 171 \n",
      "Fetching page 55 of 171 \n",
      "Fetching page 56 of 171 \n",
      "Fetching page 57 of 171 \n",
      "Fetching page 58 of 171 \n",
      "Fetching page 59 of 171 \n",
      "Fetching page 60 of 171 \n",
      "Fetching page 61 of 171 \n",
      "Fetching page 62 of 171 \n",
      "Fetching page 63 of 171 \n",
      "Fetching page 64 of 171 \n",
      "Fetching page 65 of 171 \n",
      "Fetching page 66 of 171 \n",
      "Fetching page 67 of 171 \n",
      "Fetching page 68 of 171 \n",
      "Fetching page 69 of 171 \n",
      "Fetching page 70 of 171 \n",
      "Fetching page 71 of 171 \n",
      "Fetching page 72 of 171 \n",
      "Fetching page 73 of 171 \n",
      "Fetching page 74 of 171 \n",
      "Fetching page 75 of 171 \n",
      "Fetching page 76 of 171 \n",
      "Fetching page 77 of 171 \n",
      "Fetching page 78 of 171 \n",
      "Fetching page 79 of 171 \n",
      "Fetching page 80 of 171 \n",
      "Fetching page 81 of 171 \n",
      "Fetching page 82 of 171 \n",
      "Fetching page 83 of 171 \n",
      "Fetching page 84 of 171 \n",
      "Fetching page 85 of 171 \n",
      "Fetching page 86 of 171 \n",
      "Fetching page 87 of 171 \n",
      "Fetching page 88 of 171 \n",
      "Fetching page 89 of 171 \n",
      "Fetching page 90 of 171 \n",
      "Fetching page 91 of 171 \n",
      "Fetching page 92 of 171 \n",
      "Fetching page 93 of 171 \n",
      "Fetching page 94 of 171 \n",
      "Fetching page 95 of 171 \n",
      "Fetching page 96 of 171 \n",
      "Fetching page 97 of 171 \n",
      "Fetching page 98 of 171 \n",
      "Fetching page 99 of 171 \n",
      "Fetching page 100 of 171 \n",
      "Fetching page 101 of 171 \n",
      "Fetching page 102 of 171 \n",
      "Fetching page 103 of 171 \n",
      "Fetching page 104 of 171 \n",
      "Fetching page 105 of 171 \n",
      "Fetching page 106 of 171 \n",
      "Fetching page 107 of 171 \n",
      "Fetching page 108 of 171 \n",
      "Fetching page 109 of 171 \n",
      "Fetching page 110 of 171 \n",
      "Fetching page 111 of 171 \n",
      "Fetching page 112 of 171 \n",
      "Fetching page 113 of 171 \n",
      "Fetching page 114 of 171 \n",
      "Fetching page 115 of 171 \n",
      "Fetching page 116 of 171 \n",
      "Fetching page 117 of 171 \n",
      "Fetching page 118 of 171 \n",
      "Fetching page 119 of 171 \n",
      "Fetching page 120 of 171 \n",
      "Fetching page 121 of 171 \n",
      "Fetching page 122 of 171 \n",
      "Fetching page 123 of 171 \n",
      "Fetching page 124 of 171 \n",
      "Fetching page 125 of 171 \n",
      "Fetching page 126 of 171 \n",
      "Fetching page 127 of 171 \n",
      "Fetching page 128 of 171 \n",
      "Fetching page 129 of 171 \n",
      "Fetching page 130 of 171 \n",
      "Fetching page 131 of 171 \n",
      "Fetching page 132 of 171 \n",
      "Fetching page 133 of 171 \n",
      "Fetching page 134 of 171 \n",
      "Fetching page 135 of 171 \n",
      "Fetching page 136 of 171 \n",
      "Fetching page 137 of 171 \n",
      "Fetching page 138 of 171 \n",
      "Fetching page 139 of 171 \n",
      "Fetching page 140 of 171 \n",
      "Fetching page 141 of 171 \n",
      "Fetching page 142 of 171 \n",
      "Fetching page 143 of 171 \n",
      "Fetching page 144 of 171 \n",
      "Fetching page 145 of 171 \n",
      "Fetching page 146 of 171 \n",
      "Fetching page 147 of 171 \n",
      "Fetching page 148 of 171 \n",
      "Fetching page 149 of 171 \n",
      "Fetching page 150 of 171 \n",
      "Fetching page 151 of 171 \n",
      "Fetching page 152 of 171 \n",
      "Fetching page 153 of 171 \n",
      "Fetching page 154 of 171 \n",
      "Fetching page 155 of 171 \n",
      "Fetching page 156 of 171 \n",
      "Fetching page 157 of 171 \n",
      "Fetching page 158 of 171 \n",
      "Fetching page 159 of 171 \n",
      "Fetching page 160 of 171 \n",
      "Fetching page 161 of 171 \n",
      "Fetching page 162 of 171 \n",
      "Fetching page 163 of 171 \n",
      "Fetching page 164 of 171 \n",
      "Fetching page 165 of 171 \n",
      "Fetching page 166 of 171 \n",
      "Fetching page 167 of 171 \n",
      "Fetching page 168 of 171 \n",
      "Fetching page 169 of 171 \n",
      "Fetching page 170 of 171 \n",
      "Fetching page 171 of 171 \n",
      "Fetched 3419 listings.\n",
      "23 The Terrace, Robswall, Malahide, Co. Dublin\n",
      "http://www.daft.ie/dublin/houses-for-sale/malahide/23-the-terrace-robswall-malahide-dublin-2296561/\n",
      "565000\n",
      "An Pairc Wotton, The Ward, Co. Dublin\n",
      "http://www.daft.ie/dublin/houses-for-sale/the-ward/an-pairc-wotton-the-ward-dublin-2212422/\n",
      "750000\n",
      "Ashfield Place, Templeogue Village, Templeogue, Dublin 6W\n",
      "http://www.daft.ie/dublin/new-homes-for-sale/ashfield-place-templeogue-village-templeogue-dublin-110735/\n"
     ]
    },
    {
     "ename": "AttributeError",
     "evalue": "'NoneType' object has no attribute 'text'",
     "output_type": "error",
     "traceback": [
      "\u001b[0;31m---------------------------------------------------------------------------\u001b[0m",
      "\u001b[0;31mAttributeError\u001b[0m                            Traceback (most recent call last)",
      "\u001b[0;32m<ipython-input-6-f67ac8b7628a>\u001b[0m in \u001b[0;36m<module>\u001b[0;34m\u001b[0m\n\u001b[1;32m      9\u001b[0m     \u001b[0mprint\u001b[0m\u001b[0;34m(\u001b[0m\u001b[0mlisting\u001b[0m\u001b[0;34m.\u001b[0m\u001b[0mformalised_address\u001b[0m\u001b[0;34m)\u001b[0m\u001b[0;34m\u001b[0m\u001b[0;34m\u001b[0m\u001b[0m\n\u001b[1;32m     10\u001b[0m     \u001b[0mprint\u001b[0m\u001b[0;34m(\u001b[0m\u001b[0mlisting\u001b[0m\u001b[0;34m.\u001b[0m\u001b[0mdaft_link\u001b[0m\u001b[0;34m)\u001b[0m\u001b[0;34m\u001b[0m\u001b[0;34m\u001b[0m\u001b[0m\n\u001b[0;32m---> 11\u001b[0;31m     \u001b[0mprint\u001b[0m\u001b[0;34m(\u001b[0m\u001b[0mlisting\u001b[0m\u001b[0;34m.\u001b[0m\u001b[0mprice\u001b[0m\u001b[0;34m)\u001b[0m\u001b[0;34m\u001b[0m\u001b[0;34m\u001b[0m\u001b[0m\n\u001b[0m",
      "\u001b[0;32m~/.virtualenvs/property/lib/python3.8/site-packages/daftlistings/property_for_sale.py\u001b[0m in \u001b[0;36mprice\u001b[0;34m(self)\u001b[0m\n\u001b[1;32m     29\u001b[0m     \u001b[0;32mdef\u001b[0m \u001b[0mprice\u001b[0m\u001b[0;34m(\u001b[0m\u001b[0mself\u001b[0m\u001b[0;34m)\u001b[0m\u001b[0;34m:\u001b[0m\u001b[0;34m\u001b[0m\u001b[0;34m\u001b[0m\u001b[0m\n\u001b[1;32m     30\u001b[0m         \u001b[0;32mif\u001b[0m \u001b[0mself\u001b[0m\u001b[0;34m.\u001b[0m\u001b[0mdata_from_search\u001b[0m\u001b[0;34m:\u001b[0m\u001b[0;34m\u001b[0m\u001b[0;34m\u001b[0m\u001b[0m\n\u001b[0;32m---> 31\u001b[0;31m             price = self.data_from_search.find(\n\u001b[0m\u001b[1;32m     32\u001b[0m                 \u001b[0;34m\"strong\"\u001b[0m\u001b[0;34m,\u001b[0m \u001b[0;34m{\u001b[0m\u001b[0;34m\"class\"\u001b[0m\u001b[0;34m:\u001b[0m \u001b[0;34m\"PropertyInformationCommonStyles__costAmountCopy\"\u001b[0m\u001b[0;34m}\u001b[0m\u001b[0;34m\u001b[0m\u001b[0;34m\u001b[0m\u001b[0m\n\u001b[1;32m     33\u001b[0m             ).text\n",
      "\u001b[0;31mAttributeError\u001b[0m: 'NoneType' object has no attribute 'text'"
     ]
    }
   ],
   "source": [
    "from daftlistings import Daft\n",
    "\n",
    "daft = Daft()\n",
    "daft.set_county(\"Dublin City\")\n",
    "\n",
    "listings = daft.search()\n"
   ]
  },
  {
   "cell_type": "code",
   "execution_count": 58,
   "metadata": {
    "scrolled": true
   },
   "outputs": [
    {
     "name": "stdout",
     "output_type": "stream",
     "text": [
      "price: \n",
      "\n",
      "price: \n",
      "\n"
     ]
    },
    {
     "ename": "AttributeError",
     "evalue": "'NoneType' object has no attribute 'text'",
     "output_type": "error",
     "traceback": [
      "\u001b[0;31m---------------------------------------------------------------------------\u001b[0m",
      "\u001b[0;31mAttributeError\u001b[0m                            Traceback (most recent call last)",
      "\u001b[0;32m<ipython-input-58-358aeac9e422>\u001b[0m in \u001b[0;36m<module>\u001b[0;34m\u001b[0m\n\u001b[1;32m      1\u001b[0m \u001b[0;32mfor\u001b[0m \u001b[0mlisting\u001b[0m \u001b[0;32min\u001b[0m \u001b[0mlistings\u001b[0m\u001b[0;34m[\u001b[0m\u001b[0;36m0\u001b[0m\u001b[0;34m:\u001b[0m\u001b[0;36m3\u001b[0m\u001b[0;34m]\u001b[0m\u001b[0;34m:\u001b[0m\u001b[0;34m\u001b[0m\u001b[0;34m\u001b[0m\u001b[0m\n\u001b[0;32m----> 2\u001b[0;31m     \u001b[0mprices\u001b[0m \u001b[0;34m=\u001b[0m \u001b[0mlisting\u001b[0m\u001b[0;34m.\u001b[0m\u001b[0mprice\u001b[0m\u001b[0;34m\u001b[0m\u001b[0;34m\u001b[0m\u001b[0m\n\u001b[0m\u001b[1;32m      3\u001b[0m     \u001b[0;32mif\u001b[0m \u001b[0mprices\u001b[0m \u001b[0;32mis\u001b[0m \u001b[0;32mnot\u001b[0m \u001b[0;32mNone\u001b[0m\u001b[0;34m:\u001b[0m\u001b[0;34m\u001b[0m\u001b[0;34m\u001b[0m\u001b[0m\n\u001b[1;32m      4\u001b[0m         \u001b[0mprint\u001b[0m\u001b[0;34m(\u001b[0m\u001b[0;34m'price: '\u001b[0m\u001b[0;34m)\u001b[0m\u001b[0;34m\u001b[0m\u001b[0;34m\u001b[0m\u001b[0m\n\u001b[1;32m      5\u001b[0m     \u001b[0mprint\u001b[0m\u001b[0;34m(\u001b[0m\u001b[0;34m\"\"\u001b[0m\u001b[0;34m)\u001b[0m\u001b[0;34m\u001b[0m\u001b[0;34m\u001b[0m\u001b[0m\n",
      "\u001b[0;32m~/.virtualenvs/property/lib/python3.8/site-packages/daftlistings/property_for_sale.py\u001b[0m in \u001b[0;36mprice\u001b[0;34m(self)\u001b[0m\n\u001b[1;32m     29\u001b[0m     \u001b[0;32mdef\u001b[0m \u001b[0mprice\u001b[0m\u001b[0;34m(\u001b[0m\u001b[0mself\u001b[0m\u001b[0;34m)\u001b[0m\u001b[0;34m:\u001b[0m\u001b[0;34m\u001b[0m\u001b[0;34m\u001b[0m\u001b[0m\n\u001b[1;32m     30\u001b[0m         \u001b[0;32mif\u001b[0m \u001b[0mself\u001b[0m\u001b[0;34m.\u001b[0m\u001b[0mdata_from_search\u001b[0m\u001b[0;34m:\u001b[0m\u001b[0;34m\u001b[0m\u001b[0;34m\u001b[0m\u001b[0m\n\u001b[0;32m---> 31\u001b[0;31m             price = self.data_from_search.find(\n\u001b[0m\u001b[1;32m     32\u001b[0m                 \u001b[0;34m\"strong\"\u001b[0m\u001b[0;34m,\u001b[0m \u001b[0;34m{\u001b[0m\u001b[0;34m\"class\"\u001b[0m\u001b[0;34m:\u001b[0m \u001b[0;34m\"PropertyInformationCommonStyles__costAmountCopy\"\u001b[0m\u001b[0;34m}\u001b[0m\u001b[0;34m\u001b[0m\u001b[0;34m\u001b[0m\u001b[0m\n\u001b[1;32m     33\u001b[0m             ).text\n",
      "\u001b[0;31mAttributeError\u001b[0m: 'NoneType' object has no attribute 'text'"
     ]
    }
   ],
   "source": [
    "for listing in listings[0:3]:\n",
    "    prices = listing.price\n",
    "    room = listing.bedrooms\n",
    "    if prices is not None:\n",
    "        print('price: ')\n",
    "    print(\"\")"
   ]
  },
  {
   "cell_type": "code",
   "execution_count": 113,
   "metadata": {},
   "outputs": [
    {
     "name": "stdout",
     "output_type": "stream",
     "text": [
      "No argument passed.\n",
      "di\n"
     ]
    }
   ],
   "source": [
    "bar = 1\n",
    "print(type(bar))\n",
    "if bar is None:\n",
    " print('No argument passed.')\n",
    "else:\n",
    " print('Variable bar: %s' % str(bar))"
   ]
  },
  {
   "cell_type": "code",
   "execution_count": 104,
   "metadata": {},
   "outputs": [
    {
     "name": "stdout",
     "output_type": "stream",
     "text": [
      "53.47456815965314\n",
      "-6.372131282831106\n",
      "<class 'int'>\n"
     ]
    }
   ],
   "source": [
    "print(listings[1].latitude)\n",
    "print(listings[1].longitude)\n",
    "type(listings[1].price)\n",
    "test = listings[1].price\n",
    "print(type(listings[2].price))\n"
   ]
  },
  {
   "cell_type": "code",
   "execution_count": 1,
   "metadata": {},
   "outputs": [
    {
     "ename": "TabError",
     "evalue": "inconsistent use of tabs and spaces in indentation (property_for_sale.py, line 44)",
     "output_type": "error",
     "traceback": [
      "Traceback \u001b[0;36m(most recent call last)\u001b[0m:\n",
      "  File \u001b[1;32m\"/home/ben/.virtualenvs/property/lib/python3.8/site-packages/IPython/core/interactiveshell.py\"\u001b[0m, line \u001b[1;32m3331\u001b[0m, in \u001b[1;35mrun_code\u001b[0m\n    exec(code_obj, self.user_global_ns, self.user_ns)\n",
      "  File \u001b[1;32m\"<ipython-input-1-5fbd041e9f00>\"\u001b[0m, line \u001b[1;32m1\u001b[0m, in \u001b[1;35m<module>\u001b[0m\n    from daftlistings import Daft, SortOrder, SortType, RentType\n",
      "  File \u001b[1;32m\"/home/ben/.virtualenvs/property/lib/python3.8/site-packages/daftlistings/__init__.py\"\u001b[0m, line \u001b[1;32m1\u001b[0m, in \u001b[1;35m<module>\u001b[0m\n    from .daft import *\n",
      "\u001b[0;36m  File \u001b[0;32m\"/home/ben/.virtualenvs/property/lib/python3.8/site-packages/daftlistings/daft.py\"\u001b[0;36m, line \u001b[0;32m8\u001b[0;36m, in \u001b[0;35m<module>\u001b[0;36m\u001b[0m\n\u001b[0;31m    from .property_for_sale import PropertyForSale\u001b[0m\n",
      "\u001b[0;36m  File \u001b[0;32m\"/home/ben/.virtualenvs/property/lib/python3.8/site-packages/daftlistings/property_for_sale.py\"\u001b[0;36m, line \u001b[0;32m44\u001b[0m\n\u001b[0;31m    return price\u001b[0m\n\u001b[0m                ^\u001b[0m\n\u001b[0;31mTabError\u001b[0m\u001b[0;31m:\u001b[0m inconsistent use of tabs and spaces in indentation\n"
     ]
    }
   ],
   "source": [
    "from daftlistings import Daft, SortOrder, SortType, RentType\n",
    "\n",
    "daft = Daft()\n",
    "\n",
    "daft.set_county(\"Dublin City\")\n",
    "daft.set_listing_type(RentType.ANY)\n",
    "daft.set_sort_order(SortOrder.ASCENDING)\n",
    "daft.set_sort_by(SortType.PRICE)\n",
    "daft.set_min_price(0)\n",
    "daft.set_max_price(700)\n",
    "\n",
    "listings = daft.search()\n",
    "\n"
   ]
  },
  {
   "cell_type": "code",
   "execution_count": 36,
   "metadata": {},
   "outputs": [
    {
     "name": "stdout",
     "output_type": "stream",
     "text": [
      "price: 140\n",
      "price: 625\n",
      "price: 150\n",
      "price: 165\n",
      "price: 170\n",
      "price: 180\n",
      "price: 795\n",
      "price: 800\n",
      "price: 800\n",
      "price: 825\n"
     ]
    },
    {
     "ename": "IndexError",
     "evalue": "list index out of range",
     "output_type": "error",
     "traceback": [
      "\u001b[0;31m---------------------------------------------------------------------------\u001b[0m",
      "\u001b[0;31mIndexError\u001b[0m                                Traceback (most recent call last)",
      "\u001b[0;32m<ipython-input-36-bf38b8871e8e>\u001b[0m in \u001b[0;36m<module>\u001b[0;34m\u001b[0m\n\u001b[1;32m      2\u001b[0m     \u001b[0mprices\u001b[0m\u001b[0;34m=\u001b[0m \u001b[0mx\u001b[0m\u001b[0;34m.\u001b[0m\u001b[0mprice\u001b[0m\u001b[0;34m\u001b[0m\u001b[0;34m\u001b[0m\u001b[0m\n\u001b[1;32m      3\u001b[0m     \u001b[0mprint\u001b[0m\u001b[0;34m(\u001b[0m\u001b[0;34mf\"price: {prices}\"\u001b[0m\u001b[0;34m)\u001b[0m\u001b[0;34m\u001b[0m\u001b[0;34m\u001b[0m\u001b[0m\n\u001b[0;32m----> 4\u001b[0;31m \u001b[0mtype\u001b[0m\u001b[0;34m(\u001b[0m\u001b[0mlistings\u001b[0m\u001b[0;34m[\u001b[0m\u001b[0;36m1\u001b[0m\u001b[0;34m]\u001b[0m\u001b[0;34m.\u001b[0m\u001b[0mbedrooms\u001b[0m\u001b[0;34m)\u001b[0m\u001b[0;34m\u001b[0m\u001b[0;34m\u001b[0m\u001b[0m\n\u001b[0m",
      "\u001b[0;32m~/.virtualenvs/property/lib/python3.8/site-packages/daftlistings/property_for_sale.py\u001b[0m in \u001b[0;36mbedrooms\u001b[0;34m(self)\u001b[0m\n\u001b[1;32m     45\u001b[0m     \u001b[0;34m@\u001b[0m\u001b[0mproperty\u001b[0m\u001b[0;34m\u001b[0m\u001b[0;34m\u001b[0m\u001b[0m\n\u001b[1;32m     46\u001b[0m     \u001b[0;32mdef\u001b[0m \u001b[0mbedrooms\u001b[0m\u001b[0;34m(\u001b[0m\u001b[0mself\u001b[0m\u001b[0;34m)\u001b[0m\u001b[0;34m:\u001b[0m\u001b[0;34m\u001b[0m\u001b[0;34m\u001b[0m\u001b[0m\n\u001b[0;32m---> 47\u001b[0;31m         bedrooms = self.data_from_search.find_all(\n\u001b[0m\u001b[1;32m     48\u001b[0m             \u001b[0;34m\"div\"\u001b[0m\u001b[0;34m,\u001b[0m \u001b[0;34m{\u001b[0m\u001b[0;34m\"class\"\u001b[0m\u001b[0;34m:\u001b[0m \u001b[0;34m\"QuickPropertyDetails__iconContainer\"\u001b[0m\u001b[0;34m}\u001b[0m\u001b[0;34m\u001b[0m\u001b[0;34m\u001b[0m\u001b[0m\n\u001b[1;32m     49\u001b[0m         )[0]\n",
      "\u001b[0;31mIndexError\u001b[0m: list index out of range"
     ]
    }
   ],
   "source": [
    "for x in listings[0:10]:\n",
    "    prices= x.price\n",
    "    print(f\"price: {prices}\")\n",
    "type(listings[1].bedrooms)"
   ]
  },
  {
   "cell_type": "code",
   "execution_count": 2,
   "metadata": {},
   "outputs": [
    {
     "data": {
      "text/plain": [
       "[Listing (120 Geraldstown Woods, Santry, Dublin 9),\n",
       " Listing (4 Windsor Road Apt 2A, Rathmines, Dublin 6),\n",
       " Listing (Greenmount Road, Terenure, Dublin 6),\n",
       " Listing (18 Ratoath Estate, Cabra, Dublin 7, Cabra, Dublin 7),\n",
       " Listing (4 Windsor Road 1A, Rathmines, Dublin 6),\n",
       " Listing (Carrickhill Rise, Portmarnock, Co. Dublin),\n",
       " Listing (Whitestown Road, Rush, Co. Dublin),\n",
       " Listing (North Circular Rd, North Circular Road, Dublin 1),\n",
       " Listing (Heathfield Finglas Dublin 11, Finglas, Dublin 11),\n",
       " Listing (Alexandra College, Milltown, Dublin 6),\n",
       " Listing (Castle Elms Gate, Coolock, Dublin 5),\n",
       " Listing (114 Lower Rathmines Road, Rathmines, Dublin 6),\n",
       " Listing (Belgravia, 12A Garville Road, Rathgar, Dublin 6),\n",
       " Listing (10 The Terrace Carrickmines Manor, Carrickmines, Dublin 18),\n",
       " Listing (Westway Snugborough Road, Blanchardstown, Dublin 15),\n",
       " Listing (Bloomfield Avenue, Portobello, Dublin 8),\n",
       " Listing (26 Glendoo Close, Walkinstown, Dublin 12),\n",
       " Listing (Flat 7 252 North Circular Road, North Circular Road, Dublin 7),\n",
       " Listing (North Circular Road D 7, Phibsborough, Dublin 7),\n",
       " Listing (Fonthill Road South, Clondalkin, Dublin 22),\n",
       " Listing (Lucan Road, Palmerstown, Dublin 20),\n",
       " Listing (Ballinclea, Killiney, Co. Dublin),\n",
       " Listing (25 Our Lady'S Road, Dublin 8),\n",
       " Listing (Cappagh Road, Finglas, Dublin 11),\n",
       " Listing (Swords Road, Whitehall, Dublin 9),\n",
       " Listing (Twin Ensuite, Aparto Student, Montrose, Dublin 4),\n",
       " Listing (Sundale Meadows, Tallaght, Dublin 24),\n",
       " Listing (Stradbrook Road, Blackrock, Co. Dublin),\n",
       " Listing (Boroimhe Pines, Swords, Co. Dublin),\n",
       " Listing (Liffey Terrace, Liffey Valley Park, Lucan, Co. Dublin),\n",
       " Listing (6 Anner Road, Kilmainham, Dublin 8),\n",
       " Listing (Coultry Road, Santry, Dublin 9),\n",
       " Listing (Twin Ensuite, Aparto Student),\n",
       " Listing (409 Stillorgan Road, Stillorgan, Co. Dublin),\n",
       " Listing (Frankfort Avenue, Rathgar, Dublin 6),\n",
       " Listing (Trasnagh, Newcastle Road, The Grange, Lucan, Co. Dublin),\n",
       " Listing (Swords Road, Santry, Dublin 9),\n",
       " Listing (Richmond Green, Monkstown, Co. Dublin),\n",
       " Listing (The Cottage, Piperstown, Bohernabreena, Tallaght, Dublin 24),\n",
       " Listing (Montpellier Court, Tallaght, Dublin 24),\n",
       " Listing (Violet Hill, Glasnevin, Dublin 9),\n",
       " Listing (Willow Ave, Clondalkin, Dublin 22),\n",
       " Listing (Drumcondra Road Lower, Drumcondra, Dublin 9),\n",
       " Listing (Stillorgan Road, Blackrock, Co. Dublin),\n",
       " Listing (Broadford Road, Ballinteer, Dublin 16),\n",
       " Listing (Point Village, Mayor Street Upper, Ifsc, Dublin 1),\n",
       " Listing (Mayor Street, Dublin 1),\n",
       " Listing (Glasanaon Road, Finglas, Dublin 11),\n",
       " Listing (Moyne Road, Ranelagh, Dublin 6),\n",
       " Listing (Drumcondra Road Lower, Drumcondra, Dublin 3),\n",
       " Listing (Bronze Ensuite, Aparto Student),\n",
       " Listing (Dorset Street Upper, Dublin 1),\n",
       " Listing (Bronze Ensuite, Aparto Student),\n",
       " Listing (Summerhill, Mountjoy, Dublin 1),\n",
       " Listing (Manor Street, Dublin 7),\n",
       " Listing (Flat 5, 43 Goldsmith Street, Phibsborough, Dublin 7),\n",
       " Listing (Connaught St, Phibsborough, Dublin 7),\n",
       " Listing (Blue Gardenia, Citywest, Co. Dublin),\n",
       " Listing (North Circular Road, North Circular Road, Dublin 7),\n",
       " Listing (Adelaide Rd, Dublin 2),\n",
       " Listing (Caryle House, 27B Church Street, Howth, Dublin 13),\n",
       " Listing (Grangegorman, Dublin 7),\n",
       " Listing (Mayor Street, Dublin 1),\n",
       " Listing (Silver Ensuite, Aparto Student),\n",
       " Listing (Silver Ensuite, Aparto Student),\n",
       " Listing (Stillorgan Road, Blackrock, Co. Dublin),\n",
       " Listing (Bayview Avenue, East Wall, Dublin 3),\n",
       " Listing (Pinewood Park, Rathfarnham, Dublin 14),\n",
       " Listing (Castleknock, Castleknock, Dublin 15),\n",
       " Listing (Kenilworth Square North, Rathgar, Dublin 6),\n",
       " Listing (Trasnagh The Grange ,Newcastle Road, Lucan, Co. Dublin),\n",
       " Listing (Kenilworth Park, Harold'S Cross, Dublin 6),\n",
       " Listing (South Circular Road, Portobello, Dublin 8),\n",
       " Listing (Turvey Woods, Donabate, Co. Dublin),\n",
       " Listing (Charleville Rd, Dublin 7),\n",
       " Listing (27 Willow Park Grove, Glasnevin, Glasnevin, Dublin 11),\n",
       " Listing (Carmans Hall, The Liberties, Dublin 8),\n",
       " Listing (3),\n",
       " Listing (Windy Harbour, Churchtown, Dublin 14),\n",
       " Listing (Silver Ensuite, Aparto Student),\n",
       " Listing (Grangegorman, Dublin 7),\n",
       " Listing (Cabra Road, Cabra, Dublin 7),\n",
       " Listing (Gold Ensuite, Aparto Student),\n",
       " Listing (Gold Ensuite, Aparto Student),\n",
       " Listing (Hampton Court, Off Tyrconnell Road, Inchicore, Dublin 8),\n",
       " Listing (Harolds Cross Road, Harold'S Cross, Dublin 6W),\n",
       " Listing (Greenhills Road, Kilnamanagh, Dublin 24),\n",
       " Listing (Platinum Ensuite, Aparto Student),\n",
       " Listing (Gold Ensuite, Aparto Student),\n",
       " Listing (27 Church Street, Arran Quay, Smithfield, Dublin 7),\n",
       " Listing (Carmans Hall, The Liberties, Dublin 8),\n",
       " Listing (Grove Park, Rathmines, Dublin 6),\n",
       " Listing (Harold'S Cross Road, Harold'S Cross, Dublin 6W),\n",
       " Listing (Platinum Ensuite, Aparto Student),\n",
       " Listing (Silver Ensuite, Aparto Student),\n",
       " Listing (The New Maltings , Bonham Street, Dublin 8),\n",
       " Listing (Beechwood Avenue Lower, Ranelagh, Dublin 6),\n",
       " Listing (South Circular Road, South Circular Road, Dublin 8),\n",
       " Listing (Brooklawn Avenue 7, Blackrock, Dublin 18),\n",
       " Listing (100 Rathmines Road Lower, Rathmines, Dublin 6),\n",
       " Listing (Cloonlara, Finglas, Dublin 11),\n",
       " Listing (100 Rathmines Road Lower, Rathmines, Dublin 6),\n",
       " Listing (Cabra Park, Phibsborough, Dublin 7),\n",
       " Listing (The New Maltings , Bonham Street, Dublin 8),\n",
       " Listing (Beechwood Avenue Lower, Ranelagh, Dublin 6),\n",
       " Listing (South Circular Road, South Circular Road, Dublin 8),\n",
       " Listing (Brooklawn Avenue 7, Blackrock, Dublin 18),\n",
       " Listing (Cambridge Villas, Rathmines, Dublin 6),\n",
       " Listing (Upper Buckingham Street, Dublin 1),\n",
       " Listing (Harrington Street, Portobello, Dublin 8),\n",
       " Listing (Ranelagh Road, Ranelagh, Dublin 6),\n",
       " Listing (Silver Ensuite Accessible, Aparto Student Montrose, Dublin 4),\n",
       " Listing (Gold Ensuite, Aparto Student),\n",
       " Listing (Clifden Court, Ellis Quay, Dublin 7),\n",
       " Listing (Kingsland Park Avenue, Portobello, Dublin 8),\n",
       " Listing (Harbour Mill, Balbriggan, Co. Dublin),\n",
       " Listing (The Glen, Betty Glen, Raheny, Dublin 5),\n",
       " Listing (19 Glenfield Drive, Clondalkin, Dublin 22),\n",
       " Listing (Flat 1, Nelson Street, Phibsborough, Dublin 7),\n",
       " Listing (4 Donaghmede Avenue, Kilbarrack, Dublin 5),\n",
       " Listing (Clonliffe Road, Drumcondra, Dublin 3),\n",
       " Listing (Manor Street, Stoneybatter, Dublin 7),\n",
       " Listing (Landys Court, Harbour Mill, Balbriggan, Co. Dublin),\n",
       " Listing (.North Circular Road, North Circular Road, Dublin 7),\n",
       " Listing (Stoneybatter, Dublin 7),\n",
       " Listing (Horizon Building, Royal Canal Park, Ashtown, Dublin 15),\n",
       " Listing (Snugborough Road, Blanchardstown, Dublin 15),\n",
       " Listing (Flat 3A, 96 Lower Rathmines Road, Rathmines, Dublin 6),\n",
       " Listing (14 Dundrum, Dundrum, Dublin 14),\n",
       " Listing (Platinum Ensuite, Aparto Student),\n",
       " Listing (6D Eblana Avenue, Dun Laoghaire, Co. Dublin),\n",
       " Listing (Ormond Road, Rathmines, Dublin 6),\n",
       " Listing (225 Lower Kimmage Road, Kimmage, Dublin 6W),\n",
       " Listing (St. Lawrence'S Court, Clontarf, Dublin 3),\n",
       " Listing (Apartment 30 Phiblestown House, Clonee, Dublin 15),\n",
       " Listing (Drumfinn, Ballyfermot, Dublin 10),\n",
       " Listing (Ovoca Rd, Portobello, Dublin 8),\n",
       " Listing (66 Adelaide Road, Dublin 2),\n",
       " Listing (Ballisk Court, Donabate, Co. Dublin),\n",
       " Listing (54A Thomas Street, Christchurch, Dublin 8),\n",
       " Listing (54A Thomas Street, Christchurch, Dublin 8),\n",
       " Listing (125 North Circular Road, North Circular Road, Dublin 7),\n",
       " Listing (Edemore Avenue, Edenmore, Dublin 5),\n",
       " Listing (Eden Park, Dun Laoghaire, Co. Dublin),\n",
       " Listing (The Crescent Building, Parkwest Pointe, Park West, Dublin 12),\n",
       " Listing (Jamescourt, Mount Brown, Kilmainham, Dublin 8),\n",
       " Listing (Grove Park, Rathmines, Dublin 6),\n",
       " Listing (Charleston Road, Ranelagh, Dublin 6),\n",
       " Listing (Grosvenor Square, Rathmines, Dublin 6),\n",
       " Listing (Crumlin Road, Crumlin, Dublin 12),\n",
       " Listing (Cedar House, Mespil Estate, Dublin 4),\n",
       " Listing (2),\n",
       " Listing (Victoria Road, Clontarf, Dublin 3),\n",
       " Listing (Abbotstown, Finglas, Dublin 11),\n",
       " Listing (Victoria Road, Clontarf, Dublin 3),\n",
       " Listing (Leinster Road, Rathmines, Dublin 6),\n",
       " Listing (South Circular Road, South Circular Road, Dublin 8),\n",
       " Listing (6 St Anthony'S Road, Rialto, Dublin 8),\n",
       " Listing (Gardiner Place, Dublin 1),\n",
       " Listing (182 Briarfield Grove, Kilbarrack, Dublin 5),\n",
       " Listing (Victoria Road, Clontarf, Dublin 3),\n",
       " Listing (Abbotstown, Finglas, Dublin 11),\n",
       " Listing (Victoria Road, Clontarf, Dublin 3),\n",
       " Listing (Leinster Road, Rathmines, Dublin 6),\n",
       " Listing (South Circular Road, South Circular Road, Dublin 8),\n",
       " Listing (Heywood Court, Northwood, Santry, Dublin 9),\n",
       " Listing ((1 Bed) Tallaght Cross East, Tallaght, Dublin 24),\n",
       " Listing (Apt 2, Clontarf Bay, Dublin 3, Clontarf, Dublin 3),\n",
       " Listing (Marlborough Road, Donnybrook, Dublin 4),\n",
       " Listing (Ranelagh Road, Ranelagh, Dublin 6),\n",
       " Listing (Grove Park, Rathmines, Dublin 6),\n",
       " Listing (Newcastle Manor Crescent, Newcastle, Co. Dublin),\n",
       " Listing (Leinster Road, Rathmines, Dublin 6),\n",
       " Listing (52 Kenilworth Square South, Rathgar, Dublin 6),\n",
       " Listing (South Circular Road, South Circular Road, Dublin 8),\n",
       " Listing (Holywell Lane, Feltrim, Swords, Co. Dublin),\n",
       " Listing (Rathgar Road, Rathgar, Dublin 6),\n",
       " Listing (5 Crosthwaite Park West, Dun Laoghaire, Co. Dublin),\n",
       " Listing (Chieftain'S Lodge, Balbriggan, Co. Dublin),\n",
       " Listing (10 Rathdown Road, Phibsborough, Dublin 7),\n",
       " Listing (10 Rathdown Road, Phibsborough, Dublin 7),\n",
       " Listing (Sallymount Avenue, Ranelagh, Dublin 6),\n",
       " Listing (Grosvenor Road, Rathgar, Dublin 6),\n",
       " Listing (South Circular Road, South Circular Road, Dublin 8),\n",
       " Listing (Aungier Street, Dublin 2),\n",
       " Listing (Talbot House Killiney Hill Road, Killiney, Co. Dublin),\n",
       " Listing (Whitworth Road, Drumcondra, D9, Glasnevin, Dublin 9),\n",
       " Listing (Crosbies Yard, East Wall, Dublin 3),\n",
       " Listing (11 Harold'S Bridge Court, Harold'S Cross, Dublin 6),\n",
       " Listing (Carrigmore Crescent, Saggart, Co. Dublin),\n",
       " Listing (The Ramparts, Cabinteely, Dublin 18),\n",
       " Listing (52 Brighton Road),\n",
       " Listing (Harrington Street, Portobello, Dublin 8),\n",
       " Listing (York Road, Rathmines, Dublin 6),\n",
       " Listing (Collins Ave, Santry, Dublin 9),\n",
       " Listing (Sutton Park, Sutton, Dublin 13),\n",
       " Listing (The Chandler, Arran Quay, Dublin 7),\n",
       " Listing (Ferndale Road, Rathmichael, Co. Dublin),\n",
       " Listing (Lower Rathmines Road, Rathmines, Dublin 6),\n",
       " Listing (The Park, Barons Hall, Balbriggan, Co. Dublin),\n",
       " Listing (Lower Rathmines Road, Rathmines, Dublin 6),\n",
       " Listing (The Park, Barons Hall, Balbriggan, Co. Dublin),\n",
       " Listing (Collins Ave, Santry, Dublin 9),\n",
       " Listing (Sutton Park, Sutton, Dublin 13),\n",
       " Listing (307 Cowper Downs, Rathmines, Dublin 6),\n",
       " Listing (21 Carrig Court, George'S Avenue, Blackrock, Co. Dublin),\n",
       " Listing (Derrylavin, 60 North Circular Road, Dublin 7),\n",
       " Listing (Mount Andrew Court, Lucan, Co. Dublin),\n",
       " Listing (The Willows, Parkview, Stepaside, Dublin 18),\n",
       " Listing (Seapark, Mount Prospect Ave, Clontarf, Dublin 3),\n",
       " Listing (Ashfield Road, Ranelagh, Dublin 6),\n",
       " Listing (Erris Square, Waterville, Blanchardstown, Dublin 15),\n",
       " Listing (St Fintans, North Street, Swords, Co. Dublin),\n",
       " Listing (Scariff House, Waterville, Blanchardstown, Dublin 15),\n",
       " Listing (Bachelors Walk, Dublin 1),\n",
       " Listing (The Cammock, Mount Brown, Kilmainham, Dublin 8),\n",
       " Listing (Burnell Court, Northern Cross, Clarehall, Dublin 17),\n",
       " Listing (Adelaide Road, Dublin 2),\n",
       " Listing (St Peters Terrace, Walkinstown, Dublin 12),\n",
       " Listing (Walworth Av, Portobello, Dublin 8),\n",
       " Listing (27 Church Road, East Wall, Dublin 3),\n",
       " Listing (The Plaza, Ballymun, Dublin 9),\n",
       " Listing (Beaumont Court, Beaumont, Dublin 9),\n",
       " Listing (Woodbrook, Castleknock, Dublin 15),\n",
       " Listing (Belfry Gardens, Citywest, Co. Dublin),\n",
       " Listing (Bertram Court, Lamb Alley, Merchants Quay, Dublin 8),\n",
       " Listing (Norton'S Avenue, Phibsborough, Dublin 7),\n",
       " Listing (Dorset Street, Dublin 1),\n",
       " Listing (20 St Mochtas Close Coolmine Lodge, Coolmine, Dublin 15),\n",
       " Listing (Buckingham Street, Dublin 1, Dublin 1),\n",
       " Listing (134 Leinster Road Rathmines Dublin 6, Rathmines, Co. Dublin),\n",
       " Listing (Bolton Court, Henrietta Place, Dublin 1),\n",
       " Listing (Adelaide Road, Dublin 2),\n",
       " Listing (St Peters Terrace, Walkinstown, Dublin 12),\n",
       " Listing (Walworth Av, Portobello, Dublin 8),\n",
       " Listing (33 Frankfort Court, Rathgar, Dublin 6),\n",
       " Listing (Grosvenor Square, Rathmines, Dublin 6),\n",
       " Listing (67 Brackenwood Avenue, Balbriggan, Co. Dublin),\n",
       " Listing (Oakcourt Drive, Palmerstown, Dublin 20),\n",
       " Listing (36 Barons Hall Park, Balbriggan, Co. Dublin),\n",
       " Listing (Grosvenor Square, Rathmines, Dublin 6),\n",
       " Listing (67 Brackenwood Avenue, Balbriggan, Co. Dublin),\n",
       " Listing (Oakcourt Drive, Palmerstown, Dublin 20),\n",
       " Listing (36 Barons Hall Park, Balbriggan, Co. Dublin)]"
      ]
     },
     "execution_count": 2,
     "metadata": {},
     "output_type": "execute_result"
    }
   ],
   "source": [
    "listings"
   ]
  },
  {
   "cell_type": "code",
   "execution_count": 28,
   "metadata": {},
   "outputs": [
    {
     "name": "stdout",
     "output_type": "stream",
     "text": [
      "2\n",
      "2\n"
     ]
    },
    {
     "ename": "IndexError",
     "evalue": "list index out of range",
     "output_type": "error",
     "traceback": [
      "\u001b[0;31m---------------------------------------------------------------------------\u001b[0m",
      "\u001b[0;31mIndexError\u001b[0m                                Traceback (most recent call last)",
      "\u001b[0;32m<ipython-input-28-b5b3b8f1ab66>\u001b[0m in \u001b[0;36m<module>\u001b[0;34m\u001b[0m\n\u001b[1;32m      1\u001b[0m \u001b[0;32mfor\u001b[0m \u001b[0mx\u001b[0m \u001b[0;32min\u001b[0m \u001b[0mlistings\u001b[0m\u001b[0;34m[\u001b[0m\u001b[0;36m2\u001b[0m\u001b[0;34m:\u001b[0m\u001b[0;36m5\u001b[0m\u001b[0;34m]\u001b[0m\u001b[0;34m:\u001b[0m\u001b[0;34m\u001b[0m\u001b[0;34m\u001b[0m\u001b[0m\n\u001b[0;32m----> 2\u001b[0;31m     \u001b[0mrooms\u001b[0m \u001b[0;34m=\u001b[0m \u001b[0mx\u001b[0m\u001b[0;34m.\u001b[0m\u001b[0mbedrooms\u001b[0m\u001b[0;34m\u001b[0m\u001b[0;34m\u001b[0m\u001b[0m\n\u001b[0m\u001b[1;32m      3\u001b[0m     \u001b[0mprint\u001b[0m\u001b[0;34m(\u001b[0m\u001b[0mrooms\u001b[0m\u001b[0;34m)\u001b[0m\u001b[0;34m\u001b[0m\u001b[0;34m\u001b[0m\u001b[0m\n",
      "\u001b[0;32m~/.virtualenvs/property/lib/python3.8/site-packages/daftlistings/property_for_sale.py\u001b[0m in \u001b[0;36mbedrooms\u001b[0;34m(self)\u001b[0m\n\u001b[1;32m     45\u001b[0m     \u001b[0;34m@\u001b[0m\u001b[0mproperty\u001b[0m\u001b[0;34m\u001b[0m\u001b[0;34m\u001b[0m\u001b[0m\n\u001b[1;32m     46\u001b[0m     \u001b[0;32mdef\u001b[0m \u001b[0mbedrooms\u001b[0m\u001b[0;34m(\u001b[0m\u001b[0mself\u001b[0m\u001b[0;34m)\u001b[0m\u001b[0;34m:\u001b[0m\u001b[0;34m\u001b[0m\u001b[0;34m\u001b[0m\u001b[0m\n\u001b[0;32m---> 47\u001b[0;31m         bedrooms = self.data_from_search.find_all(\n\u001b[0m\u001b[1;32m     48\u001b[0m             \u001b[0;34m\"div\"\u001b[0m\u001b[0;34m,\u001b[0m \u001b[0;34m{\u001b[0m\u001b[0;34m\"class\"\u001b[0m\u001b[0;34m:\u001b[0m \u001b[0;34m\"QuickPropertyDetails__iconContainer\"\u001b[0m\u001b[0;34m}\u001b[0m\u001b[0;34m\u001b[0m\u001b[0;34m\u001b[0m\u001b[0m\n\u001b[1;32m     49\u001b[0m         )[0]\n",
      "\u001b[0;31mIndexError\u001b[0m: list index out of range"
     ]
    }
   ],
   "source": [
    "for x in listings[2:5]:\n",
    "    if x.bedrooms == None:\n",
    "        print\n",
    "    \n",
    "    rooms = x.bedrooms\n",
    "    print(rooms)\n",
    "    "
   ]
  },
  {
   "cell_type": "code",
   "execution_count": 1,
   "metadata": {},
   "outputs": [
    {
     "ename": "NameError",
     "evalue": "name 'listings' is not defined",
     "output_type": "error",
     "traceback": [
      "\u001b[0;31m---------------------------------------------------------------------------\u001b[0m",
      "\u001b[0;31mNameError\u001b[0m                                 Traceback (most recent call last)",
      "\u001b[0;32m<ipython-input-1-0b9e574a2d03>\u001b[0m in \u001b[0;36m<module>\u001b[0;34m\u001b[0m\n\u001b[1;32m      1\u001b[0m \u001b[0;31m#print(listings[23].Rent)\u001b[0m\u001b[0;34m\u001b[0m\u001b[0;34m\u001b[0m\u001b[0;34m\u001b[0m\u001b[0m\n\u001b[0;32m----> 2\u001b[0;31m \u001b[0mlistings\u001b[0m\u001b[0;34m[\u001b[0m\u001b[0;36m19\u001b[0m\u001b[0;34m]\u001b[0m\u001b[0;34m.\u001b[0m\u001b[0mad_page_content_data\u001b[0m\u001b[0;34m\u001b[0m\u001b[0;34m\u001b[0m\u001b[0m\n\u001b[0m",
      "\u001b[0;31mNameError\u001b[0m: name 'listings' is not defined"
     ]
    }
   ],
   "source": [
    "#print(listings[23].Rent)\n",
    "listings[19].ad_page_content_data\n"
   ]
  },
  {
   "cell_type": "code",
   "execution_count": null,
   "metadata": {},
   "outputs": [],
   "source": [
    "for listing in listings:\n",
    "    print(listing.formalised_address)\n",
    "    print(listing.daft_link)\n",
    "    print(listing.price)\n",
    "    features = listing.features\n",
    "    if features is not None:\n",
    "        print('Features: ')\n",
    "        for feature in features:\n",
    "            print(feature)\n",
    "    else: \n",
    "        print(\"\")"
   ]
  },
  {
   "cell_type": "code",
   "execution_count": 139,
   "metadata": {},
   "outputs": [
    {
     "name": "stdout",
     "output_type": "stream",
     "text": [
      "Hi\n"
     ]
    },
    {
     "ename": "AttributeError",
     "evalue": "'NoneType' object has no attribute 'text'",
     "output_type": "error",
     "traceback": [
      "\u001b[0;31m---------------------------------------------------------------------------\u001b[0m",
      "\u001b[0;31mAttributeError\u001b[0m                            Traceback (most recent call last)",
      "\u001b[0;32m<ipython-input-139-32abdaa88ef5>\u001b[0m in \u001b[0;36m<module>\u001b[0;34m\u001b[0m\n\u001b[1;32m      1\u001b[0m \u001b[0mprint\u001b[0m\u001b[0;34m(\u001b[0m\u001b[0;34m\"Hi\"\u001b[0m\u001b[0;34m)\u001b[0m\u001b[0;34m\u001b[0m\u001b[0;34m\u001b[0m\u001b[0m\n\u001b[0;32m----> 2\u001b[0;31m \u001b[0mtype\u001b[0m\u001b[0;34m(\u001b[0m\u001b[0mlistings\u001b[0m\u001b[0;34m[\u001b[0m\u001b[0;36m2\u001b[0m\u001b[0;34m]\u001b[0m\u001b[0;34m.\u001b[0m\u001b[0mprice\u001b[0m\u001b[0;34m)\u001b[0m\u001b[0;34m\u001b[0m\u001b[0;34m\u001b[0m\u001b[0m\n\u001b[0m",
      "\u001b[0;32m~/.virtualenvs/property/lib/python3.8/site-packages/daftlistings/property_for_sale.py\u001b[0m in \u001b[0;36mprice\u001b[0;34m(self)\u001b[0m\n\u001b[1;32m     29\u001b[0m     \u001b[0;32mdef\u001b[0m \u001b[0mprice\u001b[0m\u001b[0;34m(\u001b[0m\u001b[0mself\u001b[0m\u001b[0;34m)\u001b[0m\u001b[0;34m:\u001b[0m\u001b[0;34m\u001b[0m\u001b[0;34m\u001b[0m\u001b[0m\n\u001b[1;32m     30\u001b[0m         \u001b[0;32mif\u001b[0m \u001b[0mself\u001b[0m\u001b[0;34m.\u001b[0m\u001b[0mdata_from_search\u001b[0m\u001b[0;34m:\u001b[0m\u001b[0;34m\u001b[0m\u001b[0;34m\u001b[0m\u001b[0m\n\u001b[0;32m---> 31\u001b[0;31m             price = self.data_from_search.find(\n\u001b[0m\u001b[1;32m     32\u001b[0m                 \u001b[0;34m\"strong\"\u001b[0m\u001b[0;34m,\u001b[0m \u001b[0;34m{\u001b[0m\u001b[0;34m\"class\"\u001b[0m\u001b[0;34m:\u001b[0m \u001b[0;34m\"PropertyInformationCommonStyles__costAmountCopy\"\u001b[0m\u001b[0;34m}\u001b[0m\u001b[0;34m\u001b[0m\u001b[0;34m\u001b[0m\u001b[0m\n\u001b[1;32m     33\u001b[0m             ).text\n",
      "\u001b[0;31mAttributeError\u001b[0m: 'NoneType' object has no attribute 'text'"
     ]
    }
   ],
   "source": [
    "print(\"Hi\")\n",
    "type(listings[2].price)"
   ]
  }
 ],
 "metadata": {
  "kernelspec": {
   "display_name": "Python 3",
   "language": "python",
   "name": "python3"
  },
  "language_info": {
   "codemirror_mode": {
    "name": "ipython",
    "version": 3
   },
   "file_extension": ".py",
   "mimetype": "text/x-python",
   "name": "python",
   "nbconvert_exporter": "python",
   "pygments_lexer": "ipython3",
   "version": "3.8.1"
  }
 },
 "nbformat": 4,
 "nbformat_minor": 4
}
