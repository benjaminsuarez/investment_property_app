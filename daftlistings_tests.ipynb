{
 "cells": [
  {
   "cell_type": "code",
   "execution_count": 1,
   "metadata": {},
   "outputs": [
    {
     "name": "stdout",
     "output_type": "stream",
     "text": [
      "hello world\n"
     ]
    }
   ],
   "source": [
    "print(\"hello world\")"
   ]
  },
  {
   "cell_type": "code",
   "execution_count": 2,
   "metadata": {
    "scrolled": true
   },
   "outputs": [
    {
     "name": "stdout",
     "output_type": "stream",
     "text": [
      "https://github.com/AnthonyBloomer/daftlistings\n"
     ]
    }
   ],
   "source": [
    "print(\"https://github.com/AnthonyBloomer/daftlistings\") "
   ]
  },
  {
   "cell_type": "code",
   "execution_count": 6,
   "metadata": {},
   "outputs": [
    {
     "name": "stdout",
     "output_type": "stream",
     "text": [
      "http://www.daft.ie/dublin-city/property-for-sale/?offset=0\n",
      "Fetching page 1 of 171 \n",
      "Fetching page 2 of 171 \n",
      "Fetching page 3 of 171 \n",
      "Fetching page 4 of 171 \n",
      "Fetching page 5 of 171 \n",
      "Fetching page 6 of 171 \n",
      "Fetching page 7 of 171 \n",
      "Fetching page 8 of 171 \n",
      "Fetching page 9 of 171 \n",
      "Fetching page 10 of 171 \n",
      "Fetching page 11 of 171 \n",
      "Fetching page 12 of 171 \n",
      "Fetching page 13 of 171 \n",
      "Fetching page 14 of 171 \n",
      "Fetching page 15 of 171 \n",
      "Fetching page 16 of 171 \n",
      "Fetching page 17 of 171 \n",
      "Fetching page 18 of 171 \n",
      "Fetching page 19 of 171 \n",
      "Fetching page 20 of 171 \n",
      "Fetching page 21 of 171 \n",
      "Fetching page 22 of 171 \n",
      "Fetching page 23 of 171 \n",
      "Fetching page 24 of 171 \n",
      "Fetching page 25 of 171 \n",
      "Fetching page 26 of 171 \n",
      "Fetching page 27 of 171 \n",
      "Fetching page 28 of 171 \n",
      "Fetching page 29 of 171 \n",
      "Fetching page 30 of 171 \n",
      "Fetching page 31 of 171 \n",
      "Fetching page 32 of 171 \n",
      "Fetching page 33 of 171 \n",
      "Fetching page 34 of 171 \n",
      "Fetching page 35 of 171 \n",
      "Fetching page 36 of 171 \n",
      "Fetching page 37 of 171 \n",
      "Fetching page 38 of 171 \n",
      "Fetching page 39 of 171 \n",
      "Fetching page 40 of 171 \n",
      "Fetching page 41 of 171 \n",
      "Fetching page 42 of 171 \n",
      "Fetching page 43 of 171 \n",
      "Fetching page 44 of 171 \n",
      "Fetching page 45 of 171 \n",
      "Fetching page 46 of 171 \n",
      "Fetching page 47 of 171 \n",
      "Fetching page 48 of 171 \n",
      "Fetching page 49 of 171 \n",
      "Fetching page 50 of 171 \n",
      "Fetching page 51 of 171 \n",
      "Fetching page 52 of 171 \n",
      "Fetching page 53 of 171 \n",
      "Fetching page 54 of 171 \n",
      "Fetching page 55 of 171 \n",
      "Fetching page 56 of 171 \n",
      "Fetching page 57 of 171 \n",
      "Fetching page 58 of 171 \n",
      "Fetching page 59 of 171 \n",
      "Fetching page 60 of 171 \n",
      "Fetching page 61 of 171 \n",
      "Fetching page 62 of 171 \n",
      "Fetching page 63 of 171 \n",
      "Fetching page 64 of 171 \n",
      "Fetching page 65 of 171 \n",
      "Fetching page 66 of 171 \n",
      "Fetching page 67 of 171 \n",
      "Fetching page 68 of 171 \n",
      "Fetching page 69 of 171 \n",
      "Fetching page 70 of 171 \n",
      "Fetching page 71 of 171 \n",
      "Fetching page 72 of 171 \n",
      "Fetching page 73 of 171 \n",
      "Fetching page 74 of 171 \n",
      "Fetching page 75 of 171 \n",
      "Fetching page 76 of 171 \n",
      "Fetching page 77 of 171 \n",
      "Fetching page 78 of 171 \n",
      "Fetching page 79 of 171 \n",
      "Fetching page 80 of 171 \n",
      "Fetching page 81 of 171 \n",
      "Fetching page 82 of 171 \n",
      "Fetching page 83 of 171 \n",
      "Fetching page 84 of 171 \n",
      "Fetching page 85 of 171 \n",
      "Fetching page 86 of 171 \n",
      "Fetching page 87 of 171 \n",
      "Fetching page 88 of 171 \n",
      "Fetching page 89 of 171 \n",
      "Fetching page 90 of 171 \n",
      "Fetching page 91 of 171 \n",
      "Fetching page 92 of 171 \n",
      "Fetching page 93 of 171 \n",
      "Fetching page 94 of 171 \n",
      "Fetching page 95 of 171 \n",
      "Fetching page 96 of 171 \n",
      "Fetching page 97 of 171 \n",
      "Fetching page 98 of 171 \n",
      "Fetching page 99 of 171 \n",
      "Fetching page 100 of 171 \n",
      "Fetching page 101 of 171 \n",
      "Fetching page 102 of 171 \n",
      "Fetching page 103 of 171 \n",
      "Fetching page 104 of 171 \n",
      "Fetching page 105 of 171 \n",
      "Fetching page 106 of 171 \n",
      "Fetching page 107 of 171 \n",
      "Fetching page 108 of 171 \n",
      "Fetching page 109 of 171 \n",
      "Fetching page 110 of 171 \n",
      "Fetching page 111 of 171 \n",
      "Fetching page 112 of 171 \n",
      "Fetching page 113 of 171 \n",
      "Fetching page 114 of 171 \n",
      "Fetching page 115 of 171 \n",
      "Fetching page 116 of 171 \n",
      "Fetching page 117 of 171 \n",
      "Fetching page 118 of 171 \n",
      "Fetching page 119 of 171 \n",
      "Fetching page 120 of 171 \n",
      "Fetching page 121 of 171 \n",
      "Fetching page 122 of 171 \n",
      "Fetching page 123 of 171 \n",
      "Fetching page 124 of 171 \n",
      "Fetching page 125 of 171 \n",
      "Fetching page 126 of 171 \n",
      "Fetching page 127 of 171 \n",
      "Fetching page 128 of 171 \n",
      "Fetching page 129 of 171 \n",
      "Fetching page 130 of 171 \n",
      "Fetching page 131 of 171 \n",
      "Fetching page 132 of 171 \n",
      "Fetching page 133 of 171 \n",
      "Fetching page 134 of 171 \n",
      "Fetching page 135 of 171 \n",
      "Fetching page 136 of 171 \n",
      "Fetching page 137 of 171 \n",
      "Fetching page 138 of 171 \n",
      "Fetching page 139 of 171 \n",
      "Fetching page 140 of 171 \n",
      "Fetching page 141 of 171 \n",
      "Fetching page 142 of 171 \n",
      "Fetching page 143 of 171 \n",
      "Fetching page 144 of 171 \n",
      "Fetching page 145 of 171 \n",
      "Fetching page 146 of 171 \n",
      "Fetching page 147 of 171 \n",
      "Fetching page 148 of 171 \n",
      "Fetching page 149 of 171 \n",
      "Fetching page 150 of 171 \n",
      "Fetching page 151 of 171 \n",
      "Fetching page 152 of 171 \n",
      "Fetching page 153 of 171 \n",
      "Fetching page 154 of 171 \n",
      "Fetching page 155 of 171 \n",
      "Fetching page 156 of 171 \n",
      "Fetching page 157 of 171 \n",
      "Fetching page 158 of 171 \n",
      "Fetching page 159 of 171 \n",
      "Fetching page 160 of 171 \n",
      "Fetching page 161 of 171 \n",
      "Fetching page 162 of 171 \n",
      "Fetching page 163 of 171 \n",
      "Fetching page 164 of 171 \n",
      "Fetching page 165 of 171 \n",
      "Fetching page 166 of 171 \n",
      "Fetching page 167 of 171 \n",
      "Fetching page 168 of 171 \n",
      "Fetching page 169 of 171 \n",
      "Fetching page 170 of 171 \n",
      "Fetching page 171 of 171 \n",
      "Fetched 3419 listings.\n",
      "23 The Terrace, Robswall, Malahide, Co. Dublin\n",
      "http://www.daft.ie/dublin/houses-for-sale/malahide/23-the-terrace-robswall-malahide-dublin-2296561/\n",
      "565000\n",
      "An Pairc Wotton, The Ward, Co. Dublin\n",
      "http://www.daft.ie/dublin/houses-for-sale/the-ward/an-pairc-wotton-the-ward-dublin-2212422/\n",
      "750000\n",
      "Ashfield Place, Templeogue Village, Templeogue, Dublin 6W\n",
      "http://www.daft.ie/dublin/new-homes-for-sale/ashfield-place-templeogue-village-templeogue-dublin-110735/\n"
     ]
    },
    {
     "ename": "AttributeError",
     "evalue": "'NoneType' object has no attribute 'text'",
     "output_type": "error",
     "traceback": [
      "\u001b[0;31m---------------------------------------------------------------------------\u001b[0m",
      "\u001b[0;31mAttributeError\u001b[0m                            Traceback (most recent call last)",
      "\u001b[0;32m<ipython-input-6-f67ac8b7628a>\u001b[0m in \u001b[0;36m<module>\u001b[0;34m\u001b[0m\n\u001b[1;32m      9\u001b[0m     \u001b[0mprint\u001b[0m\u001b[0;34m(\u001b[0m\u001b[0mlisting\u001b[0m\u001b[0;34m.\u001b[0m\u001b[0mformalised_address\u001b[0m\u001b[0;34m)\u001b[0m\u001b[0;34m\u001b[0m\u001b[0;34m\u001b[0m\u001b[0m\n\u001b[1;32m     10\u001b[0m     \u001b[0mprint\u001b[0m\u001b[0;34m(\u001b[0m\u001b[0mlisting\u001b[0m\u001b[0;34m.\u001b[0m\u001b[0mdaft_link\u001b[0m\u001b[0;34m)\u001b[0m\u001b[0;34m\u001b[0m\u001b[0;34m\u001b[0m\u001b[0m\n\u001b[0;32m---> 11\u001b[0;31m     \u001b[0mprint\u001b[0m\u001b[0;34m(\u001b[0m\u001b[0mlisting\u001b[0m\u001b[0;34m.\u001b[0m\u001b[0mprice\u001b[0m\u001b[0;34m)\u001b[0m\u001b[0;34m\u001b[0m\u001b[0;34m\u001b[0m\u001b[0m\n\u001b[0m",
      "\u001b[0;32m~/.virtualenvs/property/lib/python3.8/site-packages/daftlistings/property_for_sale.py\u001b[0m in \u001b[0;36mprice\u001b[0;34m(self)\u001b[0m\n\u001b[1;32m     29\u001b[0m     \u001b[0;32mdef\u001b[0m \u001b[0mprice\u001b[0m\u001b[0;34m(\u001b[0m\u001b[0mself\u001b[0m\u001b[0;34m)\u001b[0m\u001b[0;34m:\u001b[0m\u001b[0;34m\u001b[0m\u001b[0;34m\u001b[0m\u001b[0m\n\u001b[1;32m     30\u001b[0m         \u001b[0;32mif\u001b[0m \u001b[0mself\u001b[0m\u001b[0;34m.\u001b[0m\u001b[0mdata_from_search\u001b[0m\u001b[0;34m:\u001b[0m\u001b[0;34m\u001b[0m\u001b[0;34m\u001b[0m\u001b[0m\n\u001b[0;32m---> 31\u001b[0;31m             price = self.data_from_search.find(\n\u001b[0m\u001b[1;32m     32\u001b[0m                 \u001b[0;34m\"strong\"\u001b[0m\u001b[0;34m,\u001b[0m \u001b[0;34m{\u001b[0m\u001b[0;34m\"class\"\u001b[0m\u001b[0;34m:\u001b[0m \u001b[0;34m\"PropertyInformationCommonStyles__costAmountCopy\"\u001b[0m\u001b[0;34m}\u001b[0m\u001b[0;34m\u001b[0m\u001b[0;34m\u001b[0m\u001b[0m\n\u001b[1;32m     33\u001b[0m             ).text\n",
      "\u001b[0;31mAttributeError\u001b[0m: 'NoneType' object has no attribute 'text'"
     ]
    }
   ],
   "source": [
    "from daftlistings import Daft\n",
    "\n",
    "daft = Daft()\n",
    "daft.set_county(\"Dublin City\")\n",
    "\n",
    "listings = daft.search()\n"
   ]
  },
  {
   "cell_type": "code",
   "execution_count": 58,
   "metadata": {
    "scrolled": true
   },
   "outputs": [
    {
     "name": "stdout",
     "output_type": "stream",
     "text": [
      "price: \n",
      "\n",
      "price: \n",
      "\n"
     ]
    },
    {
     "ename": "AttributeError",
     "evalue": "'NoneType' object has no attribute 'text'",
     "output_type": "error",
     "traceback": [
      "\u001b[0;31m---------------------------------------------------------------------------\u001b[0m",
      "\u001b[0;31mAttributeError\u001b[0m                            Traceback (most recent call last)",
      "\u001b[0;32m<ipython-input-58-358aeac9e422>\u001b[0m in \u001b[0;36m<module>\u001b[0;34m\u001b[0m\n\u001b[1;32m      1\u001b[0m \u001b[0;32mfor\u001b[0m \u001b[0mlisting\u001b[0m \u001b[0;32min\u001b[0m \u001b[0mlistings\u001b[0m\u001b[0;34m[\u001b[0m\u001b[0;36m0\u001b[0m\u001b[0;34m:\u001b[0m\u001b[0;36m3\u001b[0m\u001b[0;34m]\u001b[0m\u001b[0;34m:\u001b[0m\u001b[0;34m\u001b[0m\u001b[0;34m\u001b[0m\u001b[0m\n\u001b[0;32m----> 2\u001b[0;31m     \u001b[0mprices\u001b[0m \u001b[0;34m=\u001b[0m \u001b[0mlisting\u001b[0m\u001b[0;34m.\u001b[0m\u001b[0mprice\u001b[0m\u001b[0;34m\u001b[0m\u001b[0;34m\u001b[0m\u001b[0m\n\u001b[0m\u001b[1;32m      3\u001b[0m     \u001b[0;32mif\u001b[0m \u001b[0mprices\u001b[0m \u001b[0;32mis\u001b[0m \u001b[0;32mnot\u001b[0m \u001b[0;32mNone\u001b[0m\u001b[0;34m:\u001b[0m\u001b[0;34m\u001b[0m\u001b[0;34m\u001b[0m\u001b[0m\n\u001b[1;32m      4\u001b[0m         \u001b[0mprint\u001b[0m\u001b[0;34m(\u001b[0m\u001b[0;34m'price: '\u001b[0m\u001b[0;34m)\u001b[0m\u001b[0;34m\u001b[0m\u001b[0;34m\u001b[0m\u001b[0m\n\u001b[1;32m      5\u001b[0m     \u001b[0mprint\u001b[0m\u001b[0;34m(\u001b[0m\u001b[0;34m\"\"\u001b[0m\u001b[0;34m)\u001b[0m\u001b[0;34m\u001b[0m\u001b[0;34m\u001b[0m\u001b[0m\n",
      "\u001b[0;32m~/.virtualenvs/property/lib/python3.8/site-packages/daftlistings/property_for_sale.py\u001b[0m in \u001b[0;36mprice\u001b[0;34m(self)\u001b[0m\n\u001b[1;32m     29\u001b[0m     \u001b[0;32mdef\u001b[0m \u001b[0mprice\u001b[0m\u001b[0;34m(\u001b[0m\u001b[0mself\u001b[0m\u001b[0;34m)\u001b[0m\u001b[0;34m:\u001b[0m\u001b[0;34m\u001b[0m\u001b[0;34m\u001b[0m\u001b[0m\n\u001b[1;32m     30\u001b[0m         \u001b[0;32mif\u001b[0m \u001b[0mself\u001b[0m\u001b[0;34m.\u001b[0m\u001b[0mdata_from_search\u001b[0m\u001b[0;34m:\u001b[0m\u001b[0;34m\u001b[0m\u001b[0;34m\u001b[0m\u001b[0m\n\u001b[0;32m---> 31\u001b[0;31m             price = self.data_from_search.find(\n\u001b[0m\u001b[1;32m     32\u001b[0m                 \u001b[0;34m\"strong\"\u001b[0m\u001b[0;34m,\u001b[0m \u001b[0;34m{\u001b[0m\u001b[0;34m\"class\"\u001b[0m\u001b[0;34m:\u001b[0m \u001b[0;34m\"PropertyInformationCommonStyles__costAmountCopy\"\u001b[0m\u001b[0;34m}\u001b[0m\u001b[0;34m\u001b[0m\u001b[0;34m\u001b[0m\u001b[0m\n\u001b[1;32m     33\u001b[0m             ).text\n",
      "\u001b[0;31mAttributeError\u001b[0m: 'NoneType' object has no attribute 'text'"
     ]
    }
   ],
   "source": [
    "for listing in listings[0:3]:\n",
    "    prices = listing.price\n",
    "    if prices is not None:\n",
    "        print('price: ')\n",
    "    print(\"\")"
   ]
  },
  {
   "cell_type": "code",
   "execution_count": 113,
   "metadata": {},
   "outputs": [
    {
     "name": "stdout",
     "output_type": "stream",
     "text": [
      "No argument passed.\n",
      "di\n"
     ]
    }
   ],
   "source": [
    "bar = 1\n",
    "print(type(bar))\n",
    "if bar is None:\n",
    " print('No argument passed.')\n",
    "else:\n",
    " print('Variable bar: %s' % str(bar))"
   ]
  },
  {
   "cell_type": "code",
   "execution_count": 104,
   "metadata": {},
   "outputs": [
    {
     "name": "stdout",
     "output_type": "stream",
     "text": [
      "53.47456815965314\n",
      "-6.372131282831106\n",
      "<class 'int'>\n"
     ]
    }
   ],
   "source": [
    "print(listings[1].latitude)\n",
    "print(listings[1].longitude)\n",
    "type(listings[1].price)\n",
    "test = listings[1].price\n",
    "print(type(listings[2].price))\n"
   ]
  },
  {
   "cell_type": "code",
   "execution_count": 116,
   "metadata": {},
   "outputs": [
    {
     "name": "stdout",
     "output_type": "stream",
     "text": [
      "http://www.daft.ie/dublin-city/residential-property-for-rent/?offset=0&s%5Bsort_type%5D=a&s%5Bsort_by%5D=price&s%5Bmxp%5D=2500&s%5Bignored_agents%5D%5B1%5D\n",
      "Fetching page 1 of 52 \n",
      "Fetching page 2 of 52 \n",
      "Fetching page 3 of 52 \n",
      "Fetching page 4 of 52 \n",
      "Fetching page 5 of 52 \n",
      "Fetching page 6 of 52 \n",
      "Fetching page 7 of 52 \n",
      "Fetching page 8 of 52 \n",
      "Fetching page 9 of 52 \n",
      "Fetching page 10 of 52 \n",
      "Fetching page 11 of 52 \n",
      "Fetching page 12 of 52 \n",
      "Fetching page 13 of 52 \n",
      "Fetching page 14 of 52 \n",
      "Fetching page 15 of 52 \n",
      "Fetching page 16 of 52 \n",
      "Fetching page 17 of 52 \n",
      "Fetching page 18 of 52 \n",
      "Fetching page 19 of 52 \n",
      "Fetching page 20 of 52 \n",
      "Fetching page 21 of 52 \n",
      "Fetching page 22 of 52 \n",
      "Fetching page 23 of 52 \n",
      "Fetching page 24 of 52 \n",
      "Fetching page 25 of 52 \n",
      "Fetching page 26 of 52 \n",
      "Fetching page 27 of 52 \n",
      "Fetching page 28 of 52 \n",
      "Fetching page 29 of 52 \n",
      "Fetching page 30 of 52 \n",
      "Fetching page 31 of 52 \n",
      "Fetching page 32 of 52 \n",
      "Fetching page 33 of 52 \n",
      "Fetching page 34 of 52 \n",
      "Fetching page 35 of 52 \n",
      "Fetching page 36 of 52 \n",
      "Fetching page 37 of 52 \n",
      "Fetching page 38 of 52 \n",
      "Fetching page 39 of 52 \n",
      "Fetching page 40 of 52 \n",
      "Fetching page 41 of 52 \n",
      "Fetching page 42 of 52 \n",
      "Fetching page 43 of 52 \n",
      "Fetching page 44 of 52 \n",
      "Fetching page 45 of 52 \n",
      "Fetching page 46 of 52 \n",
      "Fetching page 47 of 52 \n",
      "Fetching page 48 of 52 \n",
      "Fetching page 49 of 52 \n",
      "Fetching page 50 of 52 \n",
      "Fetching page 51 of 52 \n",
      "Fetching page 52 of 52 \n",
      "Fetched 1029 listings.\n",
      "Mount Argus Apartments, Mount Argus Road, Harold'S Cross, Dublin 6\n",
      "http://www.daft.ie/dublin/multi-units-for-rent/mount-argus-road-harolds-cross-dublin-161860/\n"
     ]
    },
    {
     "ename": "AttributeError",
     "evalue": "'NoneType' object has no attribute 'text'",
     "output_type": "error",
     "traceback": [
      "\u001b[0;31m---------------------------------------------------------------------------\u001b[0m",
      "\u001b[0;31mAttributeError\u001b[0m                            Traceback (most recent call last)",
      "\u001b[0;32m<ipython-input-116-d7c36ecda9f9>\u001b[0m in \u001b[0;36m<module>\u001b[0;34m\u001b[0m\n\u001b[1;32m     14\u001b[0m     \u001b[0mprint\u001b[0m\u001b[0;34m(\u001b[0m\u001b[0mlisting\u001b[0m\u001b[0;34m.\u001b[0m\u001b[0mformalised_address\u001b[0m\u001b[0;34m)\u001b[0m\u001b[0;34m\u001b[0m\u001b[0;34m\u001b[0m\u001b[0m\n\u001b[1;32m     15\u001b[0m     \u001b[0mprint\u001b[0m\u001b[0;34m(\u001b[0m\u001b[0mlisting\u001b[0m\u001b[0;34m.\u001b[0m\u001b[0mdaft_link\u001b[0m\u001b[0;34m)\u001b[0m\u001b[0;34m\u001b[0m\u001b[0;34m\u001b[0m\u001b[0m\n\u001b[0;32m---> 16\u001b[0;31m     \u001b[0mprint\u001b[0m\u001b[0;34m(\u001b[0m\u001b[0mlisting\u001b[0m\u001b[0;34m.\u001b[0m\u001b[0mprice\u001b[0m\u001b[0;34m)\u001b[0m\u001b[0;34m\u001b[0m\u001b[0;34m\u001b[0m\u001b[0m\n\u001b[0m\u001b[1;32m     17\u001b[0m     \u001b[0mfeatures\u001b[0m \u001b[0;34m=\u001b[0m \u001b[0mlisting\u001b[0m\u001b[0;34m.\u001b[0m\u001b[0mfeatures\u001b[0m\u001b[0;34m\u001b[0m\u001b[0;34m\u001b[0m\u001b[0m\n\u001b[1;32m     18\u001b[0m     \u001b[0;32mif\u001b[0m \u001b[0mfeatures\u001b[0m \u001b[0;32mis\u001b[0m \u001b[0;32mnot\u001b[0m \u001b[0;32mNone\u001b[0m\u001b[0;34m:\u001b[0m\u001b[0;34m\u001b[0m\u001b[0;34m\u001b[0m\u001b[0m\n",
      "\u001b[0;32m~/.virtualenvs/property/lib/python3.8/site-packages/daftlistings/property_for_sale.py\u001b[0m in \u001b[0;36mprice\u001b[0;34m(self)\u001b[0m\n\u001b[1;32m     29\u001b[0m     \u001b[0;32mdef\u001b[0m \u001b[0mprice\u001b[0m\u001b[0;34m(\u001b[0m\u001b[0mself\u001b[0m\u001b[0;34m)\u001b[0m\u001b[0;34m:\u001b[0m\u001b[0;34m\u001b[0m\u001b[0;34m\u001b[0m\u001b[0m\n\u001b[1;32m     30\u001b[0m         \u001b[0;32mif\u001b[0m \u001b[0mself\u001b[0m\u001b[0;34m.\u001b[0m\u001b[0mdata_from_search\u001b[0m\u001b[0;34m:\u001b[0m\u001b[0;34m\u001b[0m\u001b[0;34m\u001b[0m\u001b[0m\n\u001b[0;32m---> 31\u001b[0;31m             price = self.data_from_search.find(\n\u001b[0m\u001b[1;32m     32\u001b[0m                 \u001b[0;34m\"strong\"\u001b[0m\u001b[0;34m,\u001b[0m \u001b[0;34m{\u001b[0m\u001b[0;34m\"class\"\u001b[0m\u001b[0;34m:\u001b[0m \u001b[0;34m\"PropertyInformationCommonStyles__costAmountCopy\"\u001b[0m\u001b[0;34m}\u001b[0m\u001b[0;34m\u001b[0m\u001b[0;34m\u001b[0m\u001b[0m\n\u001b[1;32m     33\u001b[0m             ).text\n",
      "\u001b[0;31mAttributeError\u001b[0m: 'NoneType' object has no attribute 'text'"
     ]
    }
   ],
   "source": [
    "from daftlistings import Daft, SortOrder, SortType, RentType\n",
    "\n",
    "daft = Daft()\n",
    "\n",
    "daft.set_county(\"Dublin City\")\n",
    "daft.set_listing_type(RentType.ANY)\n",
    "daft.set_sort_order(SortOrder.ASCENDING)\n",
    "daft.set_sort_by(SortType.PRICE)\n",
    "daft.set_max_price(2500)\n",
    "\n",
    "listings = daft.search()\n",
    "\n",
    "for listing in listings:\n",
    "    print(listing.formalised_address)\n",
    "    print(listing.daft_link)\n",
    "    print(listing.price)\n",
    "    features = listing.features\n",
    "    if features is not None:\n",
    "        print('Features: ')\n",
    "        for feature in features:\n",
    "            print(feature)\n",
    "    else: \n",
    "        print(\"\")"
   ]
  },
  {
   "cell_type": "code",
   "execution_count": 139,
   "metadata": {},
   "outputs": [
    {
     "name": "stdout",
     "output_type": "stream",
     "text": [
      "Hi\n"
     ]
    },
    {
     "ename": "AttributeError",
     "evalue": "'NoneType' object has no attribute 'text'",
     "output_type": "error",
     "traceback": [
      "\u001b[0;31m---------------------------------------------------------------------------\u001b[0m",
      "\u001b[0;31mAttributeError\u001b[0m                            Traceback (most recent call last)",
      "\u001b[0;32m<ipython-input-139-32abdaa88ef5>\u001b[0m in \u001b[0;36m<module>\u001b[0;34m\u001b[0m\n\u001b[1;32m      1\u001b[0m \u001b[0mprint\u001b[0m\u001b[0;34m(\u001b[0m\u001b[0;34m\"Hi\"\u001b[0m\u001b[0;34m)\u001b[0m\u001b[0;34m\u001b[0m\u001b[0;34m\u001b[0m\u001b[0m\n\u001b[0;32m----> 2\u001b[0;31m \u001b[0mtype\u001b[0m\u001b[0;34m(\u001b[0m\u001b[0mlistings\u001b[0m\u001b[0;34m[\u001b[0m\u001b[0;36m2\u001b[0m\u001b[0;34m]\u001b[0m\u001b[0;34m.\u001b[0m\u001b[0mprice\u001b[0m\u001b[0;34m)\u001b[0m\u001b[0;34m\u001b[0m\u001b[0;34m\u001b[0m\u001b[0m\n\u001b[0m",
      "\u001b[0;32m~/.virtualenvs/property/lib/python3.8/site-packages/daftlistings/property_for_sale.py\u001b[0m in \u001b[0;36mprice\u001b[0;34m(self)\u001b[0m\n\u001b[1;32m     29\u001b[0m     \u001b[0;32mdef\u001b[0m \u001b[0mprice\u001b[0m\u001b[0;34m(\u001b[0m\u001b[0mself\u001b[0m\u001b[0;34m)\u001b[0m\u001b[0;34m:\u001b[0m\u001b[0;34m\u001b[0m\u001b[0;34m\u001b[0m\u001b[0m\n\u001b[1;32m     30\u001b[0m         \u001b[0;32mif\u001b[0m \u001b[0mself\u001b[0m\u001b[0;34m.\u001b[0m\u001b[0mdata_from_search\u001b[0m\u001b[0;34m:\u001b[0m\u001b[0;34m\u001b[0m\u001b[0;34m\u001b[0m\u001b[0m\n\u001b[0;32m---> 31\u001b[0;31m             price = self.data_from_search.find(\n\u001b[0m\u001b[1;32m     32\u001b[0m                 \u001b[0;34m\"strong\"\u001b[0m\u001b[0;34m,\u001b[0m \u001b[0;34m{\u001b[0m\u001b[0;34m\"class\"\u001b[0m\u001b[0;34m:\u001b[0m \u001b[0;34m\"PropertyInformationCommonStyles__costAmountCopy\"\u001b[0m\u001b[0;34m}\u001b[0m\u001b[0;34m\u001b[0m\u001b[0;34m\u001b[0m\u001b[0m\n\u001b[1;32m     33\u001b[0m             ).text\n",
      "\u001b[0;31mAttributeError\u001b[0m: 'NoneType' object has no attribute 'text'"
     ]
    }
   ],
   "source": [
    "print(\"Hi\")\n",
    "type(listings[2].price)"
   ]
  }
 ],
 "metadata": {
  "kernelspec": {
   "display_name": "Python 3",
   "language": "python",
   "name": "python3"
  },
  "language_info": {
   "codemirror_mode": {
    "name": "ipython",
    "version": 3
   },
   "file_extension": ".py",
   "mimetype": "text/x-python",
   "name": "python",
   "nbconvert_exporter": "python",
   "pygments_lexer": "ipython3",
   "version": "3.8.1"
  }
 },
 "nbformat": 4,
 "nbformat_minor": 4
}
